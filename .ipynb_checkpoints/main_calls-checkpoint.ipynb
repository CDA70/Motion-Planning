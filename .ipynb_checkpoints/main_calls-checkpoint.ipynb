{
 "cells": [
  {
   "cell_type": "markdown",
   "metadata": {},
   "source": [
    "# call functions from main"
   ]
  },
  {
   "cell_type": "code",
   "execution_count": 9,
   "metadata": {},
   "outputs": [],
   "source": [
    "# TODO: read lat0, lon0 from colliders into floating point values\n",
    "# Open coliders.csv and read lat0 and lon0\n",
    "colliders_file = 'colliders.csv'\n",
    "\n",
    "with open(colliders_file) as f:\n",
    "    latlon = f.readline().strip().split(',')\n",
    "    lat0 = float(latlon[0].strip().strip('lat0'))\n",
    "    lon0 = float(latlon[1].strip().strip('lon0'))\n",
    "            \n",
    "    # TODO: set home position to (lat0, lon0, 0)\n",
    "    self.set_home_position(lat0, lon0, 0)"
   ]
  }
 ],
 "metadata": {
  "kernelspec": {
   "display_name": "Python 3",
   "language": "python",
   "name": "python3"
  },
  "language_info": {
   "codemirror_mode": {
    "name": "ipython",
    "version": 3
   },
   "file_extension": ".py",
   "mimetype": "text/x-python",
   "name": "python",
   "nbconvert_exporter": "python",
   "pygments_lexer": "ipython3",
   "version": "3.6.3"
  }
 },
 "nbformat": 4,
 "nbformat_minor": 2
}
