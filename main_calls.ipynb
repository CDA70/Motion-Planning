{
 "cells": [
  {
   "cell_type": "markdown",
   "metadata": {},
   "source": [
    "# call functions from main"
   ]
  },
  {
   "cell_type": "code",
   "execution_count": 11,
   "metadata": {},
   "outputs": [],
   "source": [
    "import argparse\n",
    "import time\n",
    "import msgpack\n",
    "from enum import Enum, auto\n",
    "\n",
    "import numpy as np\n",
    "\n",
    "from planning_utils import a_star, heuristic, create_grid\n",
    "from udacidrone import Drone\n",
    "from udacidrone.connection import MavlinkConnection\n",
    "from udacidrone.messaging import MsgID\n",
    "from udacidrone.frame_utils import global_to_local"
   ]
  },
  {
   "cell_type": "code",
   "execution_count": 15,
   "metadata": {},
   "outputs": [
    {
     "name": "stdout",
     "output_type": "stream",
     "text": [
      "latitude - longitude :  ['lat0 37.792480', ' lon0 -122.397450']\n",
      "lat0 :  37.79248\n",
      "lon0 :  -122.39745\n"
     ]
    }
   ],
   "source": [
    "# TODO: read lat0, lon0 from colliders into floating point values\n",
    "# Open coliders.csv and read lat0 and lon0\n",
    "colliders_file = 'colliders.csv'\n",
    "\n",
    "with open(colliders_file) as f:\n",
    "    latlon = f.readline().strip().split(',')\n",
    "    lat0 = float(latlon[0].strip().strip('lat0'))\n",
    "    lon0 = float(latlon[1].strip().strip('lon0'))\n",
    "            \n",
    "    print('latitude - longitude : ', latlon)\n",
    "    print('lat0 : ', lat0)\n",
    "    print('lon0 : ', lon0)"
   ]
  }
 ],
 "metadata": {
  "kernelspec": {
   "display_name": "Python 3",
   "language": "python",
   "name": "python3"
  },
  "language_info": {
   "codemirror_mode": {
    "name": "ipython",
    "version": 3
   },
   "file_extension": ".py",
   "mimetype": "text/x-python",
   "name": "python",
   "nbconvert_exporter": "python",
   "pygments_lexer": "ipython3",
   "version": "3.6.3"
  }
 },
 "nbformat": 4,
 "nbformat_minor": 2
}
